{
  "nbformat": 4,
  "nbformat_minor": 0,
  "metadata": {
    "colab": {
      "name": "fundamental_of_statistical.ipynb",
      "provenance": [],
      "authorship_tag": "ABX9TyMHlA6zqIYLgECb2WNM1bhw",
      "include_colab_link": true
    },
    "kernelspec": {
      "name": "python3",
      "display_name": "Python 3"
    },
    "language_info": {
      "name": "python"
    },
    "gpuClass": "standard"
  },
  "cells": [
    {
      "cell_type": "markdown",
      "metadata": {
        "id": "view-in-github",
        "colab_type": "text"
      },
      "source": [
        "<a href=\"https://colab.research.google.com/github/neemiasbsilva/NeemiasBuceli-ds-portfolio/blob/main/mathematic-and-statistics/fundamental-of-statistics/notebook/fundamental_of_statistic.ipynb\" target=\"_parent\"><img src=\"https://colab.research.google.com/assets/colab-badge.svg\" alt=\"Open In Colab\"/></a>"
      ]
    },
    {
      "cell_type": "markdown",
      "source": [
        "# Setup & Import Libraries"
      ],
      "metadata": {
        "id": "mnHtIpSOef0Y"
      }
    },
    {
      "cell_type": "code",
      "execution_count": 2,
      "metadata": {
        "id": "uGZgTOuVeTN9"
      },
      "outputs": [],
      "source": [
        "import numpy as np\n",
        "import math"
      ]
    },
    {
      "cell_type": "markdown",
      "source": [
        "# Random Variables"
      ],
      "metadata": {
        "id": "tzTHwIUWei9G"
      }
    },
    {
      "cell_type": "markdown",
      "source": [
        "## Mean"
      ],
      "metadata": {
        "id": "1ogXUUoUemYc"
      }
    },
    {
      "cell_type": "code",
      "source": [
        "X = np.array([1, 2, 3, 4, 5, 6])\n",
        "\n",
        "print(f\"Mean: {np.mean(X)}\")"
      ],
      "metadata": {
        "colab": {
          "base_uri": "https://localhost:8080/"
        },
        "id": "J9RukqeHezBb",
        "outputId": "2cffd7ce-0824-4631-f1f3-661ba4f405c0"
      },
      "execution_count": 3,
      "outputs": [
        {
          "output_type": "stream",
          "name": "stdout",
          "text": [
            "Mean: 3.5\n"
          ]
        }
      ]
    },
    {
      "cell_type": "code",
      "source": [
        "X_nan = np.array([1, 2, 3, math.nan, math.nan, 4, 5])\n",
        "\n",
        "print(f\"Nan Mean: {np.nanmean(X_nan)}\")"
      ],
      "metadata": {
        "colab": {
          "base_uri": "https://localhost:8080/"
        },
        "id": "o5y3bx9Ke_dM",
        "outputId": "9f5ce702-d48c-4183-ecbc-3b14f26bb611"
      },
      "execution_count": 4,
      "outputs": [
        {
          "output_type": "stream",
          "name": "stdout",
          "text": [
            "Nan Mean: 3.0\n"
          ]
        }
      ]
    }
  ]
}