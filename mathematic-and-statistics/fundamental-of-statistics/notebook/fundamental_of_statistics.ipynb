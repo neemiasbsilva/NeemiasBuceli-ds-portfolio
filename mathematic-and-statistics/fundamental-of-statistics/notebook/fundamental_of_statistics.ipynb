{
  "nbformat": 4,
  "nbformat_minor": 0,
  "metadata": {
    "colab": {
      "name": "fundamental_of_statistics.ipynb",
      "provenance": [],
      "toc_visible": true,
      "authorship_tag": "ABX9TyPdi1ddgZAmHQJppij2aGIc",
      "include_colab_link": true
    },
    "kernelspec": {
      "name": "python3",
      "display_name": "Python 3"
    },
    "language_info": {
      "name": "python"
    },
    "gpuClass": "standard"
  },
  "cells": [
    {
      "cell_type": "markdown",
      "metadata": {
        "id": "view-in-github",
        "colab_type": "text"
      },
      "source": [
        "<a href=\"https://colab.research.google.com/github/neemiasbsilva/NeemiasBuceli-ds-portfolio/blob/main/mathematic-and-statistics/fundamental-of-statistics/notebook/fundamental_of_statistics.ipynb\" target=\"_parent\"><img src=\"https://colab.research.google.com/assets/colab-badge.svg\" alt=\"Open In Colab\"/></a>"
      ]
    },
    {
      "cell_type": "markdown",
      "source": [
        "# Setup & Import Libraries"
      ],
      "metadata": {
        "id": "mnHtIpSOef0Y"
      }
    },
    {
      "cell_type": "code",
      "execution_count": 15,
      "metadata": {
        "id": "uGZgTOuVeTN9"
      },
      "outputs": [],
      "source": [
        "import numpy as np\n",
        "import math\n",
        "import matplotlib.pyplot as plt\n",
        "from scipy.stats import norm\n"
      ]
    },
    {
      "cell_type": "markdown",
      "source": [
        "# Random Variables"
      ],
      "metadata": {
        "id": "tzTHwIUWei9G"
      }
    },
    {
      "cell_type": "markdown",
      "source": [
        "## Mean"
      ],
      "metadata": {
        "id": "1ogXUUoUemYc"
      }
    },
    {
      "cell_type": "code",
      "source": [
        "X = np.array([1, 2, 3, 4, 5, 6])\n",
        "\n",
        "print(f\"Mean: {np.mean(X)}\")"
      ],
      "metadata": {
        "colab": {
          "base_uri": "https://localhost:8080/"
        },
        "id": "J9RukqeHezBb",
        "outputId": "a1c471d7-3eb6-4f53-e5f5-26a8c9c01ba3"
      },
      "execution_count": 2,
      "outputs": [
        {
          "output_type": "stream",
          "name": "stdout",
          "text": [
            "Mean: 3.5\n"
          ]
        }
      ]
    },
    {
      "cell_type": "code",
      "source": [
        "X_nan = np.array([1, 2, 3, math.nan, math.nan, 4, 5])\n",
        "\n",
        "print(f\"Nan Mean: {np.nanmean(X_nan)}\")"
      ],
      "metadata": {
        "colab": {
          "base_uri": "https://localhost:8080/"
        },
        "id": "o5y3bx9Ke_dM",
        "outputId": "6f41503c-c380-4ad9-84ea-5179f682ef03"
      },
      "execution_count": 3,
      "outputs": [
        {
          "output_type": "stream",
          "name": "stdout",
          "text": [
            "Nan Mean: 3.0\n"
          ]
        }
      ]
    },
    {
      "cell_type": "markdown",
      "source": [
        "## Variance"
      ],
      "metadata": {
        "id": "pVYBGpuQu_nn"
      }
    },
    {
      "cell_type": "code",
      "source": [
        "print(f\"Variance: {np.var(X)}\")"
      ],
      "metadata": {
        "colab": {
          "base_uri": "https://localhost:8080/"
        },
        "id": "USmP8SDCvHTz",
        "outputId": "5fcf5ea5-95e8-459d-9e07-07fd91ea4545"
      },
      "execution_count": 4,
      "outputs": [
        {
          "output_type": "stream",
          "name": "stdout",
          "text": [
            "Variance: 2.9166666666666665\n"
          ]
        }
      ]
    },
    {
      "cell_type": "markdown",
      "source": [
        "**For applied in nan values, you need to specify the degrees of freedom (df), which is the max number of logically indepented number of observations that have freedom to vary**"
      ],
      "metadata": {
        "id": "8dkrpkPmvQmb"
      }
    },
    {
      "cell_type": "code",
      "source": [
        "print(f\"Nan Variance: {np.nanvar(X_nan, ddof=2)}\")"
      ],
      "metadata": {
        "colab": {
          "base_uri": "https://localhost:8080/"
        },
        "id": "4j7wbwsOvOZE",
        "outputId": "56953fa8-2888-4255-e164-b580ec27ddc4"
      },
      "execution_count": 5,
      "outputs": [
        {
          "output_type": "stream",
          "name": "stdout",
          "text": [
            "Nan Variance: 3.3333333333333335\n"
          ]
        }
      ]
    },
    {
      "cell_type": "markdown",
      "source": [
        "## Standard Deviation"
      ],
      "metadata": {
        "id": "QensoSe90O8h"
      }
    },
    {
      "cell_type": "code",
      "source": [
        "print(f\"Standard Deviation (STD): {np.std(X)}\")"
      ],
      "metadata": {
        "colab": {
          "base_uri": "https://localhost:8080/"
        },
        "id": "HofOFKvn0VDB",
        "outputId": "9e4c00c1-bf94-4e07-ac1c-e255bbc94ab1"
      },
      "execution_count": 6,
      "outputs": [
        {
          "output_type": "stream",
          "name": "stdout",
          "text": [
            "Standard Deviation (STD): 1.707825127659933\n"
          ]
        }
      ]
    },
    {
      "cell_type": "code",
      "source": [
        "print(f\"Nan Standard Deviation (STD): {np.nanstd(X_nan, ddof=2)}\")"
      ],
      "metadata": {
        "colab": {
          "base_uri": "https://localhost:8080/"
        },
        "id": "Lc-1baL70fHk",
        "outputId": "709438a6-5807-4153-f005-6a34f43e9c3d"
      },
      "execution_count": 7,
      "outputs": [
        {
          "output_type": "stream",
          "name": "stdout",
          "text": [
            "Nan Standard Deviation (STD): 1.8257418583505538\n"
          ]
        }
      ]
    },
    {
      "cell_type": "markdown",
      "source": [
        "## Correlation"
      ],
      "metadata": {
        "id": "9nkEUGZL6vaO"
      }
    },
    {
      "cell_type": "code",
      "source": [
        "Y = np.array([1, 2, 3, 4])\n",
        "Z = np.array([-2, -1, 3, 4])"
      ],
      "metadata": {
        "id": "U8LshTQW6u8O"
      },
      "execution_count": 8,
      "outputs": []
    },
    {
      "cell_type": "code",
      "source": [
        "print(f\"Corr(Y, Z) = {np.corrcoef(Y, Z)}\")"
      ],
      "metadata": {
        "colab": {
          "base_uri": "https://localhost:8080/"
        },
        "id": "SsqzZ0IB7GzY",
        "outputId": "cc4de47f-beca-43a9-b14a-c86006cebfa9"
      },
      "execution_count": 9,
      "outputs": [
        {
          "output_type": "stream",
          "name": "stdout",
          "text": [
            "Corr(Y, Z) = [[1.         0.96476382]\n",
            " [0.96476382 1.        ]]\n"
          ]
        }
      ]
    },
    {
      "cell_type": "markdown",
      "source": [
        "## Covariance"
      ],
      "metadata": {
        "id": "dYJKZCwO_Z70"
      }
    },
    {
      "cell_type": "code",
      "source": [
        "print(f\"Cov(Y, Z) = {np.cov(Y, Z)}\") # that indicates these variables tend to vary in the same direction."
      ],
      "metadata": {
        "colab": {
          "base_uri": "https://localhost:8080/"
        },
        "id": "n0mDGGuY_bc1",
        "outputId": "611f62a6-9462-4e2b-e048-eb4f30d9d50f"
      },
      "execution_count": 10,
      "outputs": [
        {
          "output_type": "stream",
          "name": "stdout",
          "text": [
            "Cov(Y, Z) = [[1.66666667 3.66666667]\n",
            " [3.66666667 8.66666667]]\n"
          ]
        }
      ]
    },
    {
      "cell_type": "markdown",
      "source": [
        "# Probability Distribution Function - PDF"
      ],
      "metadata": {
        "id": "K_2wFA9OMNn8"
      }
    },
    {
      "cell_type": "markdown",
      "source": [
        "## Binomial Distribution\n",
        "\n",
        "> Given a random generation of 10000 independent Binomial samples, the number o trials 20, and the probability of sucess is 20%, plot the Binomial Distribution Histogram\n",
        "\n"
      ],
      "metadata": {
        "id": "eWLmSbpoMT_X"
      }
    },
    {
      "cell_type": "code",
      "source": [
        "N = 10000\n",
        "n, p = 8, .20\n",
        "X = np.random.binomial(n, p, N)"
      ],
      "metadata": {
        "id": "Bl44i9MvMVlF"
      },
      "execution_count": 11,
      "outputs": []
    },
    {
      "cell_type": "code",
      "source": [
        "counts, bins, ignored = plt.hist(X, 20, density=True, rwidth=0.8, color=\"red\")\n",
        "plt.title(\"Binomial distribution with p = 0.16 n = 8\")\n",
        "plt.xlabel(\"Number of successes\")\n",
        "plt.ylabel(\"Probability\")\n",
        "plt.show()"
      ],
      "metadata": {
        "colab": {
          "base_uri": "https://localhost:8080/",
          "height": 295
        },
        "id": "F35o4itUMSJQ",
        "outputId": "72ce81c6-331f-4820-9122-164b68773284"
      },
      "execution_count": 12,
      "outputs": [
        {
          "output_type": "display_data",
          "data": {
            "text/plain": [
              "<Figure size 432x288 with 1 Axes>"
            ],
            "image/png": "[encoded data removed]"
          },
          "metadata": {
            "needs_background": "light"
          }
        }
      ]
    },
    {
      "cell_type": "markdown",
      "source": [
        "## Poisson Distribution\n",
        "\n",
        "The figure below visualizes an example of Poisson distribution where we count the number of Web visitors arriving at the website where the arrival rate, lambda, is assumed to be equal to 7 minutes.\n"
      ],
      "metadata": {
        "id": "glbL4ezJN2fF"
      }
    },
    {
      "cell_type": "code",
      "source": [
        "# supose you whant to count the number of Web visitor arriving at the website, \n",
        "# and suposse the arrival rate, lambda is assumed to be equal to 20 minutes.\n",
        "lambda_ = 20\n",
        "n_visitors = 5000\n",
        "X = np.random.poisson(lambda_, n_visitors)\n",
        "\n",
        "counts, bins, ignored = plt.hist(X, 100, density=True, color=\"red\")\n",
        "plt.title(f\"Randomly generating from Poisson Distribution with lamda = {lambda_}\")\n",
        "plt.xlabel(\"Number of visitors\")\n",
        "plt.ylabel(\"Probability\")\n",
        "plt.show()"
      ],
      "metadata": {
        "colab": {
          "base_uri": "https://localhost:8080/",
          "height": 295
        },
        "id": "yhv_FIuWQ2b6",
        "outputId": "88e5e89b-e3f3-478a-eb3f-bcad1874fd67"
      },
      "execution_count": 13,
      "outputs": [
        {
          "output_type": "display_data",
          "data": {
            "text/plain": [
              "<Figure size 432x288 with 1 Axes>"
            ],
            "image/png": "[encoded data removed]"
          },
          "metadata": {
            "needs_background": "light"
          }
        }
      ]
    },
    {
      "cell_type": "markdown",
      "source": [
        "## Gaussian Distribution\n",
        "\n",
        "> Generating a Gaussian Distribution with mean 0 ($\\mu$ = 0) and the standard deviation of 1 ($\\sigma$ = 1). This distribution is called as Standard Normal Distribution symmetric. (Number example are 20000)\n",
        "\n",
        "\n"
      ],
      "metadata": {
        "id": "TfiwyJqzvzPK"
      }
    },
    {
      "cell_type": "code",
      "source": [
        "mu = 0\n",
        "sigma = 1\n",
        "N = 10000\n",
        "X = np.random.normal(mu, sigma, N)\n",
        "\n",
        "x = np.arange(-5, 5, 0.001)\n",
        "y = norm.pdf(x)\n",
        "\n",
        "counts, bins, ignored = plt.hist(X, 500, density=True, color=\"red\", label=\"Sampling Distribution\")\n",
        "plt.plot(x, y, color='blue', linewidth=3.5, label=\"Population Distribution\")\n",
        "plt.title(f\"Randomly generating 20000 observations from Gaussian Distribution mu = {mu} sigma = {sigma}\")\n",
        "plt.xlabel(\"Number of visitors\")\n",
        "plt.ylabel(\"Probability\")\n",
        "plt.show()"
      ],
      "metadata": {
        "colab": {
          "base_uri": "https://localhost:8080/",
          "height": 295
        },
        "id": "SYw3yHJpwrj0",
        "outputId": "3ae76508-3430-4164-ccad-07255c3d1cec"
      },
      "execution_count": 22,
      "outputs": [
        {
          "output_type": "display_data",
          "data": {
            "text/plain": [
              "<Figure size 432x288 with 1 Axes>"
            ],
            "image/png": "[encoded data removed]"
          },
          "metadata": {
            "needs_background": "light"
          }
        }
      ]
    },
    {
      "cell_type": "markdown",
      "source": [
        "# Bayes Theorem"
      ],
      "metadata": {
        "id": "Ka2BGIUDD6fF"
      }
    },
    {
      "cell_type": "markdown",
      "source": [
        "## Individua Retirement Accounst Problem\n",
        "\n",
        "Your work at a financia services company that offers individual retirements accounts (IRAs). To target high potential customers, you want to find out if people with children are more likely to invest in IRAs.\n",
        "\n",
        "So if you have found:\n",
        "- 40% of all Americans have IRAs;\n",
        "- half of Americans have children;\n",
        "- two-thirds of those with IRAs have children.\n",
        "\n",
        "Based on this information, what is the probability that someone with chiildren has an IRA?"
      ],
      "metadata": {
        "id": "OmkrxByeEDOe"
      }
    },
    {
      "cell_type": "code",
      "source": [
        "p_children_ira = 2/3\n",
        "P_ira = .4\n",
        "P_children = .5\n",
        "\n",
        "bayes_pdf = p_children_ira * P_ira / P_children\n",
        "print(f\"Bayes Law = {bayes_pdf}\")"
      ],
      "metadata": {
        "colab": {
          "base_uri": "https://localhost:8080/"
        },
        "id": "TyBVHu7WD8R3",
        "outputId": "142e67d6-9838-4fd8-8948-f34f99bc6f4b"
      },
      "execution_count": 23,
      "outputs": [
        {
          "output_type": "stream",
          "name": "stdout",
          "text": [
            "Bayes Law = 0.5333333333333333\n"
          ]
        }
      ]
    }
  ]
}