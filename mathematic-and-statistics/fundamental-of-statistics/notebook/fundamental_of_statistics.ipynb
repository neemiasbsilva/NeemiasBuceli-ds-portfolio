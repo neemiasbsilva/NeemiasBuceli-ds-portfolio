{
  "nbformat": 4,
  "nbformat_minor": 0,
  "metadata": {
    "colab": {
      "name": "fundamental_of_statistics.ipynb",
      "provenance": [],
      "authorship_tag": "ABX9TyNjDfZ+VOt5HIJQQkycSw9x",
      "include_colab_link": true
    },
    "kernelspec": {
      "name": "python3",
      "display_name": "Python 3"
    },
    "language_info": {
      "name": "python"
    },
    "gpuClass": "standard"
  },
  "cells": [
    {
      "cell_type": "markdown",
      "metadata": {
        "id": "view-in-github",
        "colab_type": "text"
      },
      "source": [
        "<a href=\"https://colab.research.google.com/github/neemiasbsilva/NeemiasBuceli-ds-portfolio/blob/main/mathematic-and-statistics/fundamental-of-statistics/notebook/fundamental_of_statistics.ipynb\" target=\"_parent\"><img src=\"https://colab.research.google.com/assets/colab-badge.svg\" alt=\"Open In Colab\"/></a>"
      ]
    },
    {
      "cell_type": "markdown",
      "source": [
        "# Setup & Import Libraries"
      ],
      "metadata": {
        "id": "mnHtIpSOef0Y"
      }
    },
    {
      "cell_type": "code",
      "execution_count": 5,
      "metadata": {
        "id": "uGZgTOuVeTN9"
      },
      "outputs": [],
      "source": [
        "import numpy as np\n",
        "import math"
      ]
    },
    {
      "cell_type": "markdown",
      "source": [
        "# Random Variables"
      ],
      "metadata": {
        "id": "tzTHwIUWei9G"
      }
    },
    {
      "cell_type": "markdown",
      "source": [
        "## Mean"
      ],
      "metadata": {
        "id": "1ogXUUoUemYc"
      }
    },
    {
      "cell_type": "code",
      "source": [
        "X = np.array([1, 2, 3, 4, 5, 6])\n",
        "\n",
        "print(f\"Mean: {np.mean(X)}\")"
      ],
      "metadata": {
        "colab": {
          "base_uri": "https://localhost:8080/"
        },
        "id": "J9RukqeHezBb",
        "outputId": "017ff145-9934-4f68-e5ff-a74eae6efdc4"
      },
      "execution_count": 6,
      "outputs": [
        {
          "output_type": "stream",
          "name": "stdout",
          "text": [
            "Mean: 3.5\n"
          ]
        }
      ]
    },
    {
      "cell_type": "code",
      "source": [
        "X_nan = np.array([1, 2, 3, math.nan, math.nan, 4, 5])\n",
        "\n",
        "print(f\"Nan Mean: {np.nanmean(X_nan)}\")"
      ],
      "metadata": {
        "colab": {
          "base_uri": "https://localhost:8080/"
        },
        "id": "o5y3bx9Ke_dM",
        "outputId": "bd695646-ee6c-43a5-9738-8e5a15e1b753"
      },
      "execution_count": 7,
      "outputs": [
        {
          "output_type": "stream",
          "name": "stdout",
          "text": [
            "Nan Mean: 3.0\n"
          ]
        }
      ]
    },
    {
      "cell_type": "markdown",
      "source": [
        "## Variance"
      ],
      "metadata": {
        "id": "pVYBGpuQu_nn"
      }
    },
    {
      "cell_type": "code",
      "source": [
        "print(f\"Variance: {np.var(X)}\")"
      ],
      "metadata": {
        "colab": {
          "base_uri": "https://localhost:8080/"
        },
        "id": "USmP8SDCvHTz",
        "outputId": "e1feb855-bad8-4e07-e258-602e63598ae5"
      },
      "execution_count": 8,
      "outputs": [
        {
          "output_type": "stream",
          "name": "stdout",
          "text": [
            "Variance: 2.9166666666666665\n"
          ]
        }
      ]
    },
    {
      "cell_type": "markdown",
      "source": [
        "**For applied in nan values, you need to specify the degrees of freedom (df), which is the max number of logically indepented number of observations that have freedom to vary**"
      ],
      "metadata": {
        "id": "8dkrpkPmvQmb"
      }
    },
    {
      "cell_type": "code",
      "source": [
        "print(f\"Nan Variance: {np.nanvar(X_nan, ddof=2)}\")"
      ],
      "metadata": {
        "colab": {
          "base_uri": "https://localhost:8080/"
        },
        "id": "4j7wbwsOvOZE",
        "outputId": "b534ecd5-d783-4241-f431-a5afc302f37b"
      },
      "execution_count": 10,
      "outputs": [
        {
          "output_type": "stream",
          "name": "stdout",
          "text": [
            "Nan Variance: 3.3333333333333335\n"
          ]
        }
      ]
    },
    {
      "cell_type": "markdown",
      "source": [
        "## Standard Deviation"
      ],
      "metadata": {
        "id": "QensoSe90O8h"
      }
    },
    {
      "cell_type": "code",
      "source": [
        "print(f\"Standard Deviation (STD): {np.std(X)}\")"
      ],
      "metadata": {
        "colab": {
          "base_uri": "https://localhost:8080/"
        },
        "id": "HofOFKvn0VDB",
        "outputId": "2c3aa9ba-ba70-42a5-dcde-b0e93740fbcd"
      },
      "execution_count": 11,
      "outputs": [
        {
          "output_type": "stream",
          "name": "stdout",
          "text": [
            "Standard Deviation (STD): 1.707825127659933\n"
          ]
        }
      ]
    },
    {
      "cell_type": "code",
      "source": [
        "print(f\"Nan Standard Deviation (STD): {np.nanstd(X_nan, ddof=2)}\")"
      ],
      "metadata": {
        "colab": {
          "base_uri": "https://localhost:8080/"
        },
        "id": "Lc-1baL70fHk",
        "outputId": "5a390b83-950f-4fec-b73d-48550bda6571"
      },
      "execution_count": 13,
      "outputs": [
        {
          "output_type": "stream",
          "name": "stdout",
          "text": [
            "Nan Standard Deviation (STD): 1.8257418583505538\n"
          ]
        }
      ]
    }
  ]
}