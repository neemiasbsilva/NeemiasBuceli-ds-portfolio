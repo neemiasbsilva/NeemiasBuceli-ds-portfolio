{
  "nbformat": 4,
  "nbformat_minor": 0,
  "metadata": {
    "colab": {
      "name": "fundamental_of_statistics.ipynb",
      "provenance": [],
      "toc_visible": true,
      "authorship_tag": "ABX9TyMDrcsuCaSlBzgIL4Gv3xqr",
      "include_colab_link": true
    },
    "kernelspec": {
      "name": "python3",
      "display_name": "Python 3"
    },
    "language_info": {
      "name": "python"
    },
    "gpuClass": "standard"
  },
  "cells": [
    {
      "cell_type": "markdown",
      "metadata": {
        "id": "view-in-github",
        "colab_type": "text"
      },
      "source": [
        "<a href=\"https://colab.research.google.com/github/neemiasbsilva/NeemiasBuceli-ds-portfolio/blob/main/mathematic-and-statistics/fundamental-of-statistics/notebook/fundamental_of_statistics.ipynb\" target=\"_parent\"><img src=\"https://colab.research.google.com/assets/colab-badge.svg\" alt=\"Open In Colab\"/></a>"
      ]
    },
    {
      "cell_type": "markdown",
      "source": [
        "# Setup & Import Libraries"
      ],
      "metadata": {
        "id": "mnHtIpSOef0Y"
      }
    },
    {
      "cell_type": "code",
      "execution_count": 1,
      "metadata": {
        "id": "uGZgTOuVeTN9"
      },
      "outputs": [],
      "source": [
        "import numpy as np\n",
        "import math\n",
        "import matplotlib.pyplot as plt\n"
      ]
    },
    {
      "cell_type": "markdown",
      "source": [
        "# Random Variables"
      ],
      "metadata": {
        "id": "tzTHwIUWei9G"
      }
    },
    {
      "cell_type": "markdown",
      "source": [
        "## Mean"
      ],
      "metadata": {
        "id": "1ogXUUoUemYc"
      }
    },
    {
      "cell_type": "code",
      "source": [
        "X = np.array([1, 2, 3, 4, 5, 6])\n",
        "\n",
        "print(f\"Mean: {np.mean(X)}\")"
      ],
      "metadata": {
        "colab": {
          "base_uri": "https://localhost:8080/"
        },
        "id": "J9RukqeHezBb",
        "outputId": "74b54698-b518-45ec-a12a-dafbf140428c"
      },
      "execution_count": 2,
      "outputs": [
        {
          "output_type": "stream",
          "name": "stdout",
          "text": [
            "Mean: 3.5\n"
          ]
        }
      ]
    },
    {
      "cell_type": "code",
      "source": [
        "X_nan = np.array([1, 2, 3, math.nan, math.nan, 4, 5])\n",
        "\n",
        "print(f\"Nan Mean: {np.nanmean(X_nan)}\")"
      ],
      "metadata": {
        "colab": {
          "base_uri": "https://localhost:8080/"
        },
        "id": "o5y3bx9Ke_dM",
        "outputId": "2a497502-acd6-4a66-e064-1a746765214d"
      },
      "execution_count": 3,
      "outputs": [
        {
          "output_type": "stream",
          "name": "stdout",
          "text": [
            "Nan Mean: 3.0\n"
          ]
        }
      ]
    },
    {
      "cell_type": "markdown",
      "source": [
        "## Variance"
      ],
      "metadata": {
        "id": "pVYBGpuQu_nn"
      }
    },
    {
      "cell_type": "code",
      "source": [
        "print(f\"Variance: {np.var(X)}\")"
      ],
      "metadata": {
        "colab": {
          "base_uri": "https://localhost:8080/"
        },
        "id": "USmP8SDCvHTz",
        "outputId": "5fa366cc-cb57-4833-f2fc-c2671da5d02d"
      },
      "execution_count": 4,
      "outputs": [
        {
          "output_type": "stream",
          "name": "stdout",
          "text": [
            "Variance: 2.9166666666666665\n"
          ]
        }
      ]
    },
    {
      "cell_type": "markdown",
      "source": [
        "**For applied in nan values, you need to specify the degrees of freedom (df), which is the max number of logically indepented number of observations that have freedom to vary**"
      ],
      "metadata": {
        "id": "8dkrpkPmvQmb"
      }
    },
    {
      "cell_type": "code",
      "source": [
        "print(f\"Nan Variance: {np.nanvar(X_nan, ddof=2)}\")"
      ],
      "metadata": {
        "colab": {
          "base_uri": "https://localhost:8080/"
        },
        "id": "4j7wbwsOvOZE",
        "outputId": "384c6c76-7b9f-4c2e-eef3-52e63e9c214c"
      },
      "execution_count": 5,
      "outputs": [
        {
          "output_type": "stream",
          "name": "stdout",
          "text": [
            "Nan Variance: 3.3333333333333335\n"
          ]
        }
      ]
    },
    {
      "cell_type": "markdown",
      "source": [
        "## Standard Deviation"
      ],
      "metadata": {
        "id": "QensoSe90O8h"
      }
    },
    {
      "cell_type": "code",
      "source": [
        "print(f\"Standard Deviation (STD): {np.std(X)}\")"
      ],
      "metadata": {
        "colab": {
          "base_uri": "https://localhost:8080/"
        },
        "id": "HofOFKvn0VDB",
        "outputId": "8f0230e4-8c7b-47e2-d89f-54a5f17d376c"
      },
      "execution_count": 6,
      "outputs": [
        {
          "output_type": "stream",
          "name": "stdout",
          "text": [
            "Standard Deviation (STD): 1.707825127659933\n"
          ]
        }
      ]
    },
    {
      "cell_type": "code",
      "source": [
        "print(f\"Nan Standard Deviation (STD): {np.nanstd(X_nan, ddof=2)}\")"
      ],
      "metadata": {
        "colab": {
          "base_uri": "https://localhost:8080/"
        },
        "id": "Lc-1baL70fHk",
        "outputId": "34c7073d-2b4a-481f-cc35-780b9e79dad6"
      },
      "execution_count": 7,
      "outputs": [
        {
          "output_type": "stream",
          "name": "stdout",
          "text": [
            "Nan Standard Deviation (STD): 1.8257418583505538\n"
          ]
        }
      ]
    },
    {
      "cell_type": "markdown",
      "source": [
        "## Correlation"
      ],
      "metadata": {
        "id": "9nkEUGZL6vaO"
      }
    },
    {
      "cell_type": "code",
      "source": [
        "Y = np.array([1, 2, 3, 4])\n",
        "Z = np.array([-2, -1, 3, 4])"
      ],
      "metadata": {
        "id": "U8LshTQW6u8O"
      },
      "execution_count": 8,
      "outputs": []
    },
    {
      "cell_type": "code",
      "source": [
        "print(f\"Corr(Y, Z) = {np.corrcoef(Y, Z)}\")"
      ],
      "metadata": {
        "colab": {
          "base_uri": "https://localhost:8080/"
        },
        "id": "SsqzZ0IB7GzY",
        "outputId": "2741787f-b603-46ed-fa71-c1f464a81db2"
      },
      "execution_count": 9,
      "outputs": [
        {
          "output_type": "stream",
          "name": "stdout",
          "text": [
            "Corr(Y, Z) = [[1.         0.96476382]\n",
            " [0.96476382 1.        ]]\n"
          ]
        }
      ]
    },
    {
      "cell_type": "markdown",
      "source": [
        "## Covariance"
      ],
      "metadata": {
        "id": "dYJKZCwO_Z70"
      }
    },
    {
      "cell_type": "code",
      "source": [
        "print(f\"Cov(Y, Z) = {np.cov(Y, Z)}\") # that indicates these variables tend to vary in the same direction."
      ],
      "metadata": {
        "colab": {
          "base_uri": "https://localhost:8080/"
        },
        "id": "n0mDGGuY_bc1",
        "outputId": "97285f3e-f27a-416a-a5d1-10b0c1525071"
      },
      "execution_count": 10,
      "outputs": [
        {
          "output_type": "stream",
          "name": "stdout",
          "text": [
            "Cov(Y, Z) = [[1.66666667 3.66666667]\n",
            " [3.66666667 8.66666667]]\n"
          ]
        }
      ]
    },
    {
      "cell_type": "markdown",
      "source": [
        "# Probability Distribution Function - PDF"
      ],
      "metadata": {
        "id": "K_2wFA9OMNn8"
      }
    },
    {
      "cell_type": "markdown",
      "source": [
        "## Binomial Distribution\n",
        "\n",
        "> Given a random generation of 10000 independent Binomial samples, the number o trials 20, and the probability of sucess is 20%, plot the Binomial Distribution Histogram\n",
        "\n"
      ],
      "metadata": {
        "id": "eWLmSbpoMT_X"
      }
    },
    {
      "cell_type": "code",
      "source": [
        "N = 10000\n",
        "n, p = 8, .20\n",
        "X = np.random.binomial(n, p, N)"
      ],
      "metadata": {
        "id": "Bl44i9MvMVlF"
      },
      "execution_count": 11,
      "outputs": []
    },
    {
      "cell_type": "code",
      "source": [
        "counts, bins, ignored = plt.hist(X, 20, density=True, rwidth=0.8, color=\"red\")\n",
        "plt.title(\"Binomial distribution with p = 0.16 n = 8\")\n",
        "plt.xlabel(\"Number of successes\")\n",
        "plt.ylabel(\"Probability\")\n",
        "plt.show()"
      ],
      "metadata": {
        "colab": {
          "base_uri": "https://localhost:8080/",
          "height": 295
        },
        "id": "F35o4itUMSJQ",
        "outputId": "2040b71f-cbc8-435f-c9c7-4dee16e93245"
      },
      "execution_count": 12,
      "outputs": [
        {
          "output_type": "display_data",
          "data": {
            "text/plain": [
              "<Figure size 432x288 with 1 Axes>"
            ],
            "image/png": "[encoded data removed]"
          },
          "metadata": {
            "needs_background": "light"
          }
        }
      ]
    },
    {
      "cell_type": "markdown",
      "source": [
        "## Poisson Distribution\n",
        "\n",
        "The figure below visualizes an example of Poisson distribution where we count the number of Web visitors arriving at the website where the arrival rate, lambda, is assumed to be equal to 7 minutes.\n"
      ],
      "metadata": {
        "id": "glbL4ezJN2fF"
      }
    },
    {
      "cell_type": "code",
      "source": [
        "# supose you whant to count the number of Web visitor arriving at the website, \n",
        "# and suposse the arrival rate, lambda is assumed to be equal to 20 minutes.\n",
        "lambda_ = 20\n",
        "n_visitors = 5000\n",
        "X = np.random.poisson(lambda_, n_visitors)\n",
        "\n",
        "counts, bins, ignored = plt.hist(X, 100, density=True, color=\"red\")\n",
        "plt.title(f\"Randomly generating from Poisson Distribution with lamda = {lambda_}\")\n",
        "plt.xlabel(\"Number of visitors\")\n",
        "plt.ylabel(\"Probability\")\n",
        "plt.show()"
      ],
      "metadata": {
        "colab": {
          "base_uri": "https://localhost:8080/",
          "height": 295
        },
        "id": "yhv_FIuWQ2b6",
        "outputId": "0299fb0f-d414-4568-b221-96622c54934e"
      },
      "execution_count": 16,
      "outputs": [
        {
          "output_type": "display_data",
          "data": {
            "text/plain": [
              "<Figure size 432x288 with 1 Axes>"
            ],
            "image/png": "[encoded data removed]"
          },
          "metadata": {
            "needs_background": "light"
          }
        }
      ]
    },
    {
      "cell_type": "code",
      "source": [
        ""
      ],
      "metadata": {
        "id": "N6XAFmM0QseM"
      },
      "execution_count": null,
      "outputs": []
    }
  ]
}