{
 "cells": [
  {
   "attachments": {},
   "cell_type": "markdown",
   "metadata": {},
   "source": [
    "# Library import"
   ]
  },
  {
   "cell_type": "code",
   "execution_count": 23,
   "metadata": {},
   "outputs": [],
   "source": [
    "import numpy as np\n",
    "import pandas as pd\n",
    "from scipy.stats import norm\n",
    "\n",
    "import matplotlib.pyplot as plt\n",
    "%matplotlib inline"
   ]
  },
  {
   "attachments": {},
   "cell_type": "markdown",
   "metadata": {},
   "source": [
    "# Define Constant & Load Binomial Populational"
   ]
  },
  {
   "cell_type": "code",
   "execution_count": 16,
   "metadata": {},
   "outputs": [],
   "source": [
    "B = 50000\n",
    "alpha = 0.05"
   ]
  },
  {
   "cell_type": "code",
   "execution_count": 2,
   "metadata": {},
   "outputs": [
    {
     "data": {
      "text/plain": [
       "0    7046\n",
       "1    7029\n",
       "2    7050\n",
       "3    6905\n",
       "4    6959\n",
       "dtype: int64"
      ]
     },
     "execution_count": 2,
     "metadata": {},
     "output_type": "execute_result"
    }
   ],
   "source": [
    "n_population = 500\n",
    "X = pd.Series(np.random.binomial(10000, 0.7, size=n_population))\n",
    "X.head()"
   ]
  },
  {
   "cell_type": "code",
   "execution_count": 4,
   "metadata": {},
   "outputs": [
    {
     "name": "stdout",
     "output_type": "stream",
     "text": [
      "Size of true target: 250\n",
      "Size of false target: 250\n"
     ]
    }
   ],
   "source": [
    "y1 = np.repeat(\"true\", n_population/2) \n",
    "y2 = np.repeat(\"false\", n_population/2)\n",
    "\n",
    "n_true = len(y1)\n",
    "n_false = len(y2)\n",
    "\n",
    "print(f\"Size of true target: {n_true}\")\n",
    "print(f\"Size of false target: {n_false}\")"
   ]
  },
  {
   "attachments": {},
   "cell_type": "markdown",
   "metadata": {},
   "source": [
    "# Define the dataset"
   ]
  },
  {
   "cell_type": "code",
   "execution_count": 5,
   "metadata": {},
   "outputs": [
    {
     "data": {
      "text/plain": [
       "0    true\n",
       "1    true\n",
       "2    true\n",
       "3    true\n",
       "4    true\n",
       "dtype: object"
      ]
     },
     "execution_count": 5,
     "metadata": {},
     "output_type": "execute_result"
    }
   ],
   "source": [
    "y = pd.Series(np.append(y1, y2))\n",
    "y.head()"
   ]
  },
  {
   "cell_type": "code",
   "execution_count": 6,
   "metadata": {},
   "outputs": [
    {
     "data": {
      "text/html": [
       "<div>\n",
       "<style scoped>\n",
       "    .dataframe tbody tr th:only-of-type {\n",
       "        vertical-align: middle;\n",
       "    }\n",
       "\n",
       "    .dataframe tbody tr th {\n",
       "        vertical-align: top;\n",
       "    }\n",
       "\n",
       "    .dataframe thead th {\n",
       "        text-align: right;\n",
       "    }\n",
       "</style>\n",
       "<table border=\"1\" class=\"dataframe\">\n",
       "  <thead>\n",
       "    <tr style=\"text-align: right;\">\n",
       "      <th></th>\n",
       "      <th>0</th>\n",
       "      <th>1</th>\n",
       "    </tr>\n",
       "  </thead>\n",
       "  <tbody>\n",
       "    <tr>\n",
       "      <th>0</th>\n",
       "      <td>7046</td>\n",
       "      <td>true</td>\n",
       "    </tr>\n",
       "    <tr>\n",
       "      <th>1</th>\n",
       "      <td>7029</td>\n",
       "      <td>true</td>\n",
       "    </tr>\n",
       "    <tr>\n",
       "      <th>2</th>\n",
       "      <td>7050</td>\n",
       "      <td>true</td>\n",
       "    </tr>\n",
       "    <tr>\n",
       "      <th>3</th>\n",
       "      <td>6905</td>\n",
       "      <td>true</td>\n",
       "    </tr>\n",
       "    <tr>\n",
       "      <th>4</th>\n",
       "      <td>6959</td>\n",
       "      <td>true</td>\n",
       "    </tr>\n",
       "  </tbody>\n",
       "</table>\n",
       "</div>"
      ],
      "text/plain": [
       "      0     1\n",
       "0  7046  true\n",
       "1  7029  true\n",
       "2  7050  true\n",
       "3  6905  true\n",
       "4  6959  true"
      ]
     },
     "execution_count": 6,
     "metadata": {},
     "output_type": "execute_result"
    }
   ],
   "source": [
    "df = pd.concat([X, y], axis=1)\n",
    "df.head()"
   ]
  },
  {
   "attachments": {},
   "cell_type": "markdown",
   "metadata": {},
   "source": [
    "# Get Mean and Median of the Sample"
   ]
  },
  {
   "cell_type": "code",
   "execution_count": 10,
   "metadata": {},
   "outputs": [
    {
     "data": {
      "text/plain": [
       "1\n",
       "false    6996.172\n",
       "true     6997.136\n",
       "Name: 0, dtype: float64"
      ]
     },
     "execution_count": 10,
     "metadata": {},
     "output_type": "execute_result"
    }
   ],
   "source": [
    "means_p_group = df.groupby(1, group_keys=False)[0].mean()\n",
    "means_p_group"
   ]
  },
  {
   "cell_type": "code",
   "execution_count": 11,
   "metadata": {},
   "outputs": [
    {
     "data": {
      "text/plain": [
       "1\n",
       "false    6993.0\n",
       "true     6996.0\n",
       "Name: 0, dtype: float64"
      ]
     },
     "execution_count": 11,
     "metadata": {},
     "output_type": "execute_result"
    }
   ],
   "source": [
    "medians_p_group = df.groupby(1)[0].median()\n",
    "\n",
    "medians_p_group"
   ]
  },
  {
   "attachments": {},
   "cell_type": "markdown",
   "metadata": {},
   "source": [
    "# Apply Bootstrapping"
   ]
  },
  {
   "cell_type": "code",
   "execution_count": 13,
   "metadata": {},
   "outputs": [],
   "source": [
    "def bootstrapping_means_medians_diff(df: pd.DataFrame, B: int):\n",
    "    bs_mean_diff = []\n",
    "    bs_medians_diff = []\n",
    "\n",
    "    bs_means_true = []\n",
    "    bs_means_false = []\n",
    "\n",
    "    coun_pos_meandiff, coun_pos_mediandiff = 0, 0\n",
    "    \n",
    "    for i in range(B):\n",
    "\n",
    "        bs_sample = df.sample(frac=1, replace=True)\n",
    "\n",
    "        # means/medians of bs sample for control and exp group\n",
    "        bs_means_p_group = bs_sample.groupby(1)[0].mean()\n",
    "        bs_medians_p_group = bs_sample.groupby(1)[0].median()\n",
    "        bs_sample_mean_true = bs_means_p_group[\"true\"]\n",
    "        bs_sample_mean_false = bs_means_p_group[\"false\"]\n",
    "\n",
    "        bs_means_true.append(bs_sample_mean_true)\n",
    "        bs_means_false.append(bs_sample_mean_false)\n",
    "\n",
    "        # calc the diff in means/medians p/ bs sample\n",
    "        diff_means = bs_sample_mean_false - bs_sample_mean_true\n",
    "        diff_medians = bs_medians_p_group[\"false\"] - bs_medians_p_group[\"true\"]\n",
    "        \n",
    "\n",
    "        # counting the numb of times the diff is pos\n",
    "        if (diff_means > 0):\n",
    "            coun_pos_meandiff += 1\n",
    "\n",
    "        if (diff_medians > 0):\n",
    "            coun_pos_mediandiff += 1\n",
    "\n",
    "        bs_mean_diff.append(diff_means)\n",
    "        bs_medians_diff.append(diff_medians)\n",
    "    \n",
    "    return bs_means_true, bs_means_false, coun_pos_meandiff, coun_pos_mediandiff, bs_mean_diff, bs_medians_diff\n",
    "\n",
    "        \n",
    "        "
   ]
  },
  {
   "cell_type": "code",
   "execution_count": 15,
   "metadata": {},
   "outputs": [],
   "source": [
    "X_bars_true, X_bars_false, n_means, n_medians, bs_mean_diff, bs_median_diff = bootstrapping_means_medians_diff(\n",
    "    df, B\n",
    ")"
   ]
  },
  {
   "attachments": {},
   "cell_type": "markdown",
   "metadata": {},
   "source": [
    "# Calculating Mean, Standard Error, and Confidence Interval - CI"
   ]
  },
  {
   "cell_type": "code",
   "execution_count": 17,
   "metadata": {},
   "outputs": [
    {
     "name": "stdout",
     "output_type": "stream",
     "text": [
      "Mean of X_bars_false - X_bars_true: -0.9758949514007327\n",
      "Standar Error of X_bars_false - X_bars_true: 0.26724505168499074\n",
      "CI of X_bars_false - X_bars_true: [-1.4996856277498598, -0.45210427505160555]\n"
     ]
    }
   ],
   "source": [
    "Z_mean = np.mean(X_bars_false) - np.mean(X_bars_true)\n",
    "Z_sigma = np.sqrt((np.var(X_bars_false)/n_false + np.var(X_bars_true)/n_true))\n",
    "confidence_interval = [Z_mean - norm.ppf(1-alpha/2)*Z_sigma, Z_mean + norm.ppf(1-alpha/2)*Z_sigma]\n",
    "\n",
    "print(f\"Mean of X_bars_false - X_bars_true: {Z_mean}\")\n",
    "print(f\"Standar Error of X_bars_false - X_bars_true: {Z_sigma}\")\n",
    "print(f\"CI of X_bars_false - X_bars_true: {confidence_interval}\")"
   ]
  },
  {
   "attachments": {},
   "cell_type": "markdown",
   "metadata": {},
   "source": [
    "# Calculating Percentile"
   ]
  },
  {
   "cell_type": "code",
   "execution_count": 22,
   "metadata": {},
   "outputs": [
    {
     "name": "stdout",
     "output_type": "stream",
     "text": [
      "0th percentile: -19.547502840408924\n",
      "5th percentile: -7.914331593737188\n",
      "50th percentile / median: -19.547502840408924\n",
      "95.5th percentile: -19.547502840408924\n",
      "100th percentile: 17.53120798924465\n"
     ]
    }
   ],
   "source": [
    "# 0th percentile\n",
    "MIN = sorted(bs_mean_diff)[0]\n",
    "# 100th percentile\n",
    "MAX = sorted(bs_mean_diff)[-1]\n",
    "# 5th percentile\n",
    "percentile_5 = sorted(bs_mean_diff)[int(5/100 * (len(bs_mean_diff)-1))]\n",
    "# 50th percentile/median\n",
    "percentile_50_median = sorted(bs_mean_diff)[int(50/100) * (len(bs_mean_diff)-1)]\n",
    "# 95.5th percentile\n",
    "percentile_95_5 = sorted(bs_mean_diff)[int(95.5/100) * (len(bs_mean_diff)-1)]\n",
    "\n",
    "print(f\"0th percentile: {MIN}\")\n",
    "print(f\"5th percentile: {percentile_5}\")\n",
    "print(f\"50th percentile / median: {percentile_50_median}\")\n",
    "print(f\"95.5th percentile: {percentile_95_5}\")\n",
    "print(f\"100th percentile: {MAX}\")"
   ]
  },
  {
   "attachments": {},
   "cell_type": "markdown",
   "metadata": {},
   "source": [
    "# Visualize the Bootstraping Meand and Median Difference"
   ]
  },
  {
   "cell_type": "code",
   "execution_count": 34,
   "metadata": {},
   "outputs": [],
   "source": [
    "def plot_bs_mean_median_diff():\n",
    "    fig = plt.figure(figsize=(12, 5))\n",
    "    counts, bins, ignored = plt.hist(bs_mean_diff, 100, density=True, color=\"gray\")\n",
    "    plt.xlabel(\"Mean Difference\")\n",
    "    plt.title(\"Distribution of Bootstrapped samples mean difference\")\n",
    "\n",
    "    plt.axvline(MIN, 0, 1, label=\"0th percentile\", color=\"blue\")\n",
    "    plt.axvline(percentile_5, 0, 1, label=\"5th percentile\", color=\"orange\")\n",
    "    plt.axvline(Z_mean, 0, 1, label=\"mean of Z = X_bars_false - X_bars_true\", color='green', linewidth=5)\n",
    "    plt.axvline(percentile_50_median, 0, 1, label=\"50th percentile/median\", color=\"red\")\n",
    "    plt.axvline(percentile_95_5, 0, 1, label=\"95.5th percentile\", color=\"purple\")\n",
    "    plt.axvline(MAX, 0, 1, label=\"100th percentile\", color=\"brown\")\n",
    "    plt.legend()\n",
    "    plt.show()"
   ]
  },
  {
   "cell_type": "code",
   "execution_count": 35,
   "metadata": {},
   "outputs": [
    {
     "data": {
      "image/png": "[encoded data removed]",
      "text/plain": [
       "<Figure size 1200x500 with 1 Axes>"
      ]
     },
     "metadata": {},
     "output_type": "display_data"
    }
   ],
   "source": [
    "plot_bs_mean_median_diff()"
   ]
  },
  {
   "cell_type": "code",
   "execution_count": null,
   "metadata": {},
   "outputs": [],
   "source": []
  },
  {
   "cell_type": "code",
   "execution_count": null,
   "metadata": {},
   "outputs": [],
   "source": []
  }
 ],
 "metadata": {
  "kernelspec": {
   "display_name": "base",
   "language": "python",
   "name": "base"
  },
  "language_info": {
   "codemirror_mode": {
    "name": "ipython",
    "version": 3
   },
   "file_extension": ".py",
   "mimetype": "text/x-python",
   "name": "python",
   "nbconvert_exporter": "python",
   "pygments_lexer": "ipython3",
   "version": "3.9.13"
  },
  "orig_nbformat": 4
 },
 "nbformat": 4,
 "nbformat_minor": 2
}
