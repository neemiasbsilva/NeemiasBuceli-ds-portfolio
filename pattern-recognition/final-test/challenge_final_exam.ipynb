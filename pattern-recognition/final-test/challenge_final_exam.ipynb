{
  "cells": [
    {
      "cell_type": "markdown",
      "metadata": {
        "id": "z8pTFxQpeZfe"
      },
      "source": [
        "# Clone gym-solitaire repository to make the interface"
      ]
    },
    {
      "cell_type": "code",
      "execution_count": 2,
      "metadata": {
        "colab": {
          "base_uri": "https://localhost:8080/"
        },
        "id": "CP-bnh7XeZ9d",
        "outputId": "b3b9fd13-f0f9-49ce-b19e-70cfec5eb89f"
      },
      "outputs": [
        {
          "name": "stdout",
          "output_type": "stream",
          "text": [
            "Cloning into 'gym-solitaire'...\n",
            "remote: Enumerating objects: 83, done.\u001b[K\n",
            "remote: Counting objects: 100% (83/83), done.\u001b[K\n",
            "remote: Compressing objects: 100% (60/60), done.\u001b[K\n",
            "remote: Total 83 (delta 32), reused 73 (delta 22), pack-reused 0\u001b[K\n",
            "Receiving objects: 100% (83/83), 12.91 KiB | 2.58 MiB/s, done.\n",
            "Resolving deltas: 100% (32/32), done.\n"
          ]
        }
      ],
      "source": [
        "!git clone https://github.com/taylorjg/gym-solitaire.git"
      ]
    },
    {
      "cell_type": "code",
      "execution_count": 1,
      "metadata": {
        "colab": {
          "base_uri": "https://localhost:8080/"
        },
        "id": "pXGCdFx_eh4Q",
        "outputId": "07e6690f-9c75-47ec-c17b-ffab71dc8b1a"
      },
      "outputs": [
        {
          "name": "stdout",
          "output_type": "stream",
          "text": [
            "\u001b[0m\u001b[01;34mgym_solitaire\u001b[0m/           main.py    requirements.txt\n",
            "\u001b[01;34mgym_solitaire.egg-info\u001b[0m/  README.md  setup.py\n"
          ]
        }
      ],
      "source": [
        "import os\n",
        "os.chdir(\"/content/gym-solitaire\")\n",
        "%ls"
      ]
    },
    {
      "cell_type": "code",
      "execution_count": 2,
      "metadata": {
        "colab": {
          "base_uri": "https://localhost:8080/"
        },
        "id": "8oEVTVs5ecBJ",
        "outputId": "d919b034-b853-4003-897c-4d0a2c35f305"
      },
      "outputs": [
        {
          "name": "stdout",
          "output_type": "stream",
          "text": [
            "Obtaining file:///content/gym-solitaire\n",
            "  Preparing metadata (setup.py) ... \u001b[?25l\u001b[?25hdone\n",
            "Requirement already satisfied: gym in /usr/local/lib/python3.10/dist-packages (from gym-solitaire==0.0.1) (0.25.2)\n",
            "Requirement already satisfied: numpy>=1.18.0 in /usr/local/lib/python3.10/dist-packages (from gym->gym-solitaire==0.0.1) (1.23.5)\n",
            "Requirement already satisfied: cloudpickle>=1.2.0 in /usr/local/lib/python3.10/dist-packages (from gym->gym-solitaire==0.0.1) (2.2.1)\n",
            "Requirement already satisfied: gym-notices>=0.0.4 in /usr/local/lib/python3.10/dist-packages (from gym->gym-solitaire==0.0.1) (0.0.8)\n",
            "Installing collected packages: gym-solitaire\n",
            "  Attempting uninstall: gym-solitaire\n",
            "    Found existing installation: gym-solitaire 0.0.1\n",
            "    Uninstalling gym-solitaire-0.0.1:\n",
            "      Successfully uninstalled gym-solitaire-0.0.1\n",
            "  Running setup.py develop for gym-solitaire\n",
            "Successfully installed gym-solitaire-0.0.1\n"
          ]
        }
      ],
      "source": [
        "!pip3 install -e ."
      ]
    },
    {
      "cell_type": "markdown",
      "metadata": {},
      "source": [
        "# Import Libraries"
      ]
    },
    {
      "cell_type": "code",
      "execution_count": 3,
      "metadata": {
        "id": "XK1HJQXze8fM"
      },
      "outputs": [],
      "source": [
        "import argparse\n",
        "import numpy as np\n",
        "import gym\n",
        "import random\n",
        "from gym_solitaire.envs import obs_to_board, board_to_obs\n",
        "import matplotlib as mpl\n",
        "import matplotlib.pyplot as plt"
      ]
    },
    {
      "cell_type": "code",
      "execution_count": 122,
      "metadata": {
        "id": "llJptC7ebqDL"
      },
      "outputs": [],
      "source": [
        "import warnings\n",
        "warnings.filterwarnings(\"ignore\")"
      ]
    },
    {
      "cell_type": "code",
      "execution_count": 102,
      "metadata": {
        "colab": {
          "base_uri": "https://localhost:8080/"
        },
        "id": "ud83XuXgfJHc",
        "outputId": "ea7f1391-b9e0-4506-b38d-e20c209c945b"
      },
      "outputs": [
        {
          "name": "stderr",
          "output_type": "stream",
          "text": [
            "/usr/local/lib/python3.10/dist-packages/ipykernel/ipkernel.py:283: DeprecationWarning: `should_run_async` will not call `transform_cell` automatically in the future. Please pass the result to `transformed_cell` argument and any exception that happen during thetransform in `preprocessing_exc_tuple` in IPython 7.17 and above.\n",
            "  and should_run_async(code)\n"
          ]
        }
      ],
      "source": [
        "LR = 0.001\n",
        "EPSILON_START = 1\n",
        "EPSILON_END = 0.01\n",
        "EPSILON_DECAY_PC = 50\n",
        "GAMMA = 1\n",
        "NUM_EPISODES = 20000\n",
        "BATCH_SIZE = 64\n",
        "PATH = \"td_solitaire.h5\""
      ]
    },
    {
      "cell_type": "code",
      "execution_count": 5,
      "metadata": {
        "colab": {
          "base_uri": "https://localhost:8080/"
        },
        "id": "LGCvnO0YfSR-",
        "outputId": "01dfbda6-a911-4fea-a2a4-82b0803ffbed"
      },
      "outputs": [
        {
          "name": "stderr",
          "output_type": "stream",
          "text": [
            "/usr/local/lib/python3.10/dist-packages/gym/core.py:317: DeprecationWarning: \u001b[33mWARN: Initializing wrapper in old step API which returns one bool instead of two. It is recommended to set `new_step_api=True` to use new step API. This will be the default behaviour in future.\u001b[0m\n",
            "  deprecation(\n",
            "/usr/local/lib/python3.10/dist-packages/gym/wrappers/step_api_compatibility.py:39: DeprecationWarning: \u001b[33mWARN: Initializing environment in old step API which returns one bool instead of two. It is recommended to set `new_step_api=True` to use new step API. This will be the default behaviour in future.\u001b[0m\n",
            "  deprecation(\n"
          ]
        }
      ],
      "source": [
        "env = gym.make('gym_solitaire:gym_solitaire-v0')"
      ]
    },
    {
      "cell_type": "code",
      "execution_count": 6,
      "metadata": {
        "colab": {
          "base_uri": "https://localhost:8080/"
        },
        "id": "FuRPK6LjfWEp",
        "outputId": "2ba3be0f-2a34-45f6-9e4f-8703144033be"
      },
      "outputs": [
        {
          "data": {
            "text/plain": [
              "33"
            ]
          },
          "execution_count": 6,
          "metadata": {},
          "output_type": "execute_result"
        }
      ],
      "source": [
        "in_dim = env.observation_space.shape[0]\n",
        "in_dim"
      ]
    },
    {
      "cell_type": "markdown",
      "metadata": {},
      "source": [
        "# Define the Neural Network"
      ]
    },
    {
      "cell_type": "code",
      "execution_count": 7,
      "metadata": {
        "id": "roJIsitLff3s"
      },
      "outputs": [],
      "source": [
        "import tensorflow as tf\n",
        "\n",
        "class Net(tf.keras.Model):\n",
        "    def __init__(self, in_dim):\n",
        "        super().__init__()\n",
        "        self.model = tf.keras.Sequential([\n",
        "            tf.keras.layers.Dense(32, activation='relu', input_shape=(in_dim,)),\n",
        "            tf.keras.layers.Dense(1)\n",
        "        ])\n",
        "\n",
        "    def call(self, x):\n",
        "        return self.model(x)"
      ]
    },
    {
      "cell_type": "code",
      "execution_count": 103,
      "metadata": {
        "id": "IrlR1xkPfZAL"
      },
      "outputs": [],
      "source": [
        "net = Net(in_dim)"
      ]
    },
    {
      "cell_type": "code",
      "execution_count": 32,
      "metadata": {
        "id": "yFb2KwRhf-va"
      },
      "outputs": [],
      "source": [
        "def fst(pair):\n",
        "    return pair[0]\n",
        "\n",
        "def snd(pair):\n",
        "    return pair[1]\n",
        "\n",
        "def evaluate_valid_actions(net, s):\n",
        "    current_board = obs_to_board(s)\n",
        "\n",
        "    def evaluate_valid_action(a):\n",
        "        new_board = current_board.make_move(a)\n",
        "        s2 = board_to_obs(new_board)\n",
        "        return s2\n",
        "\n",
        "    valid_actions = current_board.valid_actions()\n",
        "    s2s = list(map(evaluate_valid_action, valid_actions))\n",
        "\n",
        "    s2_values = net(tf.constant(s2s, dtype=tf.float32)).numpy().squeeze(-1)\n",
        "    s2_value_a_pairs = list(zip(s2_values, valid_actions))\n",
        "\n",
        "    return s2_value_a_pairs\n",
        "\n",
        "\n",
        "def make_policy(net):\n",
        "    def pi(s, epsilon=0):\n",
        "        s2_value_a_pairs = evaluate_valid_actions(net, s)\n",
        "        if random.random() < epsilon:\n",
        "            return random.choice(s2_value_a_pairs)\n",
        "        else:\n",
        "            best_pair = s2_value_a_pairs[0]\n",
        "            for pair in s2_value_a_pairs[1:]:\n",
        "                if fst(pair) > fst(best_pair):\n",
        "                    best_pair = pair\n",
        "            return best_pair\n",
        "\n",
        "    return pi"
      ]
    },
    {
      "cell_type": "code",
      "execution_count": 107,
      "metadata": {
        "id": "JnbRy8Iqg5w1"
      },
      "outputs": [],
      "source": [
        "pi = make_policy(net)"
      ]
    },
    {
      "cell_type": "code",
      "execution_count": 108,
      "metadata": {
        "id": "bwvexDfTg9rk"
      },
      "outputs": [],
      "source": [
        "loss_fn = tf.keras.losses.MeanSquaredError()\n",
        "opt = tf.keras.optimizers.Adam(learning_rate=LR)"
      ]
    },
    {
      "cell_type": "code",
      "execution_count": 109,
      "metadata": {
        "id": "sM2cxNgcjD0F"
      },
      "outputs": [],
      "source": [
        "def custom_loss(y_true, y_pred):\n",
        "    return tf.keras.losses.mean_squared_error(y_true, y_pred)"
      ]
    },
    {
      "cell_type": "code",
      "execution_count": 111,
      "metadata": {
        "id": "SXC96FZOhLo2"
      },
      "outputs": [],
      "source": [
        "optimizer = tf.keras.optimizers.Adam(learning_rate=LR)\n",
        "net.compile(optimizer=optimizer, loss=custom_loss)"
      ]
    },
    {
      "cell_type": "code",
      "execution_count": 115,
      "metadata": {
        "colab": {
          "base_uri": "https://localhost:8080/"
        },
        "id": "nUk-Z7L7gtHJ",
        "outputId": "f28de3c3-f9f7-45b7-cfff-a1001bd175b1"
      },
      "outputs": [
        {
          "name": "stderr",
          "output_type": "stream",
          "text": [
            "/usr/local/lib/python3.10/dist-packages/ipykernel/ipkernel.py:283: DeprecationWarning: `should_run_async` will not call `transform_cell` automatically in the future. Please pass the result to `transformed_cell` argument and any exception that happen during thetransform in `preprocessing_exc_tuple` in IPython 7.17 and above.\n",
            "  and should_run_async(code)\n"
          ]
        }
      ],
      "source": [
        "def make_linear_decay_schedule(start_val, end_val, decay_pc):\n",
        "    range_val = end_val - start_val\n",
        "    decay_episodes = NUM_EPISODES * decay_pc / 100\n",
        "    per_episode_delta = range_val / decay_episodes\n",
        "\n",
        "    def linear_decay_schedule(episode):\n",
        "        if episode > decay_episodes:\n",
        "            return end_val\n",
        "        else:\n",
        "            return start_val + per_episode_delta * episode\n",
        "\n",
        "    return linear_decay_schedule\n",
        "\n",
        "def train(env, pi, net, loss_fn, opt):\n",
        "    epsilon_decay_schedule = make_linear_decay_schedule(EPSILON_START, EPSILON_END, EPSILON_DECAY_PC)\n",
        "    episode_rewards = []  # To store rewards for each episode\n",
        "    episode_states = []   # To store states for each episode\n",
        "    episode_targets = []  # To store targets for each episode\n",
        "\n",
        "    for episode in range(NUM_EPISODES):\n",
        "        epsilon = epsilon_decay_schedule(episode)\n",
        "        state = env.reset()\n",
        "        episode_states.append([])  # Create an empty list for the current episode's states\n",
        "        episode_targets.append([])  # Create an empty list for the current episode's targets\n",
        "\n",
        "        while True:\n",
        "            s2_value, a = pi(state, epsilon)\n",
        "\n",
        "            next_state, reward, done, _ = env.step(a)\n",
        "\n",
        "            s_value = net(np.array([state], dtype=np.float32)).numpy().squeeze()\n",
        "\n",
        "            s2_value_target = reward + (1 - done) * GAMMA * s2_value\n",
        "\n",
        "            episode_states[-1].append(state)\n",
        "            episode_targets[-1].append(s2_value_target)\n",
        "\n",
        "            if done:\n",
        "                episode_rewards.append(np.sum(episode_targets[-1]))  # Store total reward for the episode\n",
        "                break\n",
        "\n",
        "            state = next_state\n",
        "\n",
        "    states = [state for episode in episode_states for state in episode]\n",
        "    targets = [target for episode in episode_targets for target in episode]\n",
        "\n",
        "    states = np.array(states, dtype=np.float32)\n",
        "    targets = np.array(targets, dtype=np.float32)\n",
        "\n",
        "    dataset = tf.data.Dataset.from_tensor_slices((states, targets)).shuffle(buffer_size=len(states))\n",
        "\n",
        "    history = net.fit(dataset.batch(BATCH_SIZE), epochs=100)\n",
        "\n",
        "    return history\n"
      ]
    },
    {
      "cell_type": "code",
      "execution_count": 116,
      "metadata": {
        "colab": {
          "base_uri": "https://localhost:8080/"
        },
        "id": "ci5zil-W_RCB",
        "outputId": "94d03f35-e4ac-426d-dd17-0a760ee629ae"
      },
      "outputs": [
        {
          "name": "stdout",
          "output_type": "stream",
          "text": [
            "Epoch 1/100\n",
            "7892/7892 [==============================] - 17s 2ms/step - loss: 10.0302\n",
            "Epoch 2/100\n",
            "7892/7892 [==============================] - 17s 2ms/step - loss: 8.4754\n",
            "Epoch 3/100\n",
            "7892/7892 [==============================] - 17s 2ms/step - loss: 8.1191\n",
            "Epoch 4/100\n",
            "7892/7892 [==============================] - 18s 2ms/step - loss: 7.8886\n",
            "Epoch 5/100\n",
            "7892/7892 [==============================] - 19s 2ms/step - loss: 7.7378\n",
            "Epoch 6/100\n",
            "7892/7892 [==============================] - 17s 2ms/step - loss: 7.6291\n",
            "Epoch 7/100\n",
            "7892/7892 [==============================] - 17s 2ms/step - loss: 7.5377\n",
            "Epoch 8/100\n",
            "7892/7892 [==============================] - 18s 2ms/step - loss: 7.4659\n",
            "Epoch 9/100\n",
            "7892/7892 [==============================] - 18s 2ms/step - loss: 7.3826\n",
            "Epoch 10/100\n",
            "7892/7892 [==============================] - 17s 2ms/step - loss: 7.2996\n",
            "Epoch 11/100\n",
            "7892/7892 [==============================] - 17s 2ms/step - loss: 7.2323\n",
            "Epoch 12/100\n",
            "7892/7892 [==============================] - 17s 2ms/step - loss: 7.1800\n",
            "Epoch 13/100\n",
            "7892/7892 [==============================] - 17s 2ms/step - loss: 7.1315\n",
            "Epoch 14/100\n",
            "7892/7892 [==============================] - 16s 2ms/step - loss: 7.0982\n",
            "Epoch 15/100\n",
            "7892/7892 [==============================] - 16s 2ms/step - loss: 7.0613\n",
            "Epoch 16/100\n",
            "7892/7892 [==============================] - 16s 2ms/step - loss: 7.0347\n",
            "Epoch 17/100\n",
            "7892/7892 [==============================] - 16s 2ms/step - loss: 7.0127\n",
            "Epoch 18/100\n",
            "7892/7892 [==============================] - 16s 2ms/step - loss: 6.9843\n",
            "Epoch 19/100\n",
            "7892/7892 [==============================] - 16s 2ms/step - loss: 6.9584\n",
            "Epoch 20/100\n",
            "7892/7892 [==============================] - 16s 2ms/step - loss: 6.9452\n",
            "Epoch 21/100\n",
            "7892/7892 [==============================] - 17s 2ms/step - loss: 6.9205\n",
            "Epoch 22/100\n",
            "7892/7892 [==============================] - 17s 2ms/step - loss: 6.9033\n",
            "Epoch 23/100\n",
            "7892/7892 [==============================] - 16s 2ms/step - loss: 6.8838\n",
            "Epoch 24/100\n",
            "7892/7892 [==============================] - 16s 2ms/step - loss: 6.8719\n",
            "Epoch 25/100\n",
            "7892/7892 [==============================] - 16s 2ms/step - loss: 6.8535\n",
            "Epoch 26/100\n",
            "7892/7892 [==============================] - 16s 2ms/step - loss: 6.8320\n",
            "Epoch 27/100\n",
            "7892/7892 [==============================] - 16s 2ms/step - loss: 6.8213\n",
            "Epoch 28/100\n",
            "7892/7892 [==============================] - 16s 2ms/step - loss: 6.8075\n",
            "Epoch 29/100\n",
            "7892/7892 [==============================] - 16s 2ms/step - loss: 6.7909\n",
            "Epoch 30/100\n",
            "7892/7892 [==============================] - 16s 2ms/step - loss: 6.7852\n",
            "Epoch 31/100\n",
            "7892/7892 [==============================] - 17s 2ms/step - loss: 6.7714\n",
            "Epoch 32/100\n",
            "7892/7892 [==============================] - 16s 2ms/step - loss: 6.7577\n",
            "Epoch 33/100\n",
            "7892/7892 [==============================] - 16s 2ms/step - loss: 6.7499\n",
            "Epoch 34/100\n",
            "7892/7892 [==============================] - 16s 2ms/step - loss: 6.7441\n",
            "Epoch 35/100\n",
            "7892/7892 [==============================] - 17s 2ms/step - loss: 6.7233\n",
            "Epoch 36/100\n",
            "7892/7892 [==============================] - 16s 2ms/step - loss: 6.7168\n",
            "Epoch 37/100\n",
            "7892/7892 [==============================] - 16s 2ms/step - loss: 6.7097\n",
            "Epoch 38/100\n",
            "7892/7892 [==============================] - 17s 2ms/step - loss: 6.6969\n",
            "Epoch 39/100\n",
            "7892/7892 [==============================] - 16s 2ms/step - loss: 6.6893\n",
            "Epoch 40/100\n",
            "7892/7892 [==============================] - 16s 2ms/step - loss: 6.6800\n",
            "Epoch 41/100\n",
            "7892/7892 [==============================] - 17s 2ms/step - loss: 6.6714\n",
            "Epoch 42/100\n",
            "7892/7892 [==============================] - 18s 2ms/step - loss: 6.6670\n",
            "Epoch 43/100\n",
            "7892/7892 [==============================] - 17s 2ms/step - loss: 6.6542\n",
            "Epoch 44/100\n",
            "7892/7892 [==============================] - 16s 2ms/step - loss: 6.6425\n",
            "Epoch 45/100\n",
            "7892/7892 [==============================] - 16s 2ms/step - loss: 6.6369\n",
            "Epoch 46/100\n",
            "7892/7892 [==============================] - 17s 2ms/step - loss: 6.6340\n",
            "Epoch 47/100\n",
            "7892/7892 [==============================] - 16s 2ms/step - loss: 6.6285\n",
            "Epoch 48/100\n",
            "7892/7892 [==============================] - 16s 2ms/step - loss: 6.6277\n",
            "Epoch 49/100\n",
            "7892/7892 [==============================] - 16s 2ms/step - loss: 6.6111\n",
            "Epoch 50/100\n",
            "7892/7892 [==============================] - 16s 2ms/step - loss: 6.6049\n",
            "Epoch 51/100\n",
            "7892/7892 [==============================] - 16s 2ms/step - loss: 6.5928\n",
            "Epoch 52/100\n",
            "7892/7892 [==============================] - 16s 2ms/step - loss: 6.5951\n",
            "Epoch 53/100\n",
            "7892/7892 [==============================] - 17s 2ms/step - loss: 6.5884\n",
            "Epoch 54/100\n",
            "7892/7892 [==============================] - 16s 2ms/step - loss: 6.5829\n",
            "Epoch 55/100\n",
            "7892/7892 [==============================] - 17s 2ms/step - loss: 6.5754\n",
            "Epoch 56/100\n",
            "7892/7892 [==============================] - 16s 2ms/step - loss: 6.5722\n",
            "Epoch 57/100\n",
            "7892/7892 [==============================] - 16s 2ms/step - loss: 6.5619\n",
            "Epoch 58/100\n",
            "7892/7892 [==============================] - 16s 2ms/step - loss: 6.5572\n",
            "Epoch 59/100\n",
            "7892/7892 [==============================] - 16s 2ms/step - loss: 6.5581\n",
            "Epoch 60/100\n",
            "7892/7892 [==============================] - 16s 2ms/step - loss: 6.5482\n",
            "Epoch 61/100\n",
            "7892/7892 [==============================] - 16s 2ms/step - loss: 6.5514\n",
            "Epoch 62/100\n",
            "7892/7892 [==============================] - 16s 2ms/step - loss: 6.5432\n",
            "Epoch 63/100\n",
            "7892/7892 [==============================] - 16s 2ms/step - loss: 6.5360\n",
            "Epoch 64/100\n",
            "7892/7892 [==============================] - 16s 2ms/step - loss: 6.5369\n",
            "Epoch 65/100\n",
            "7892/7892 [==============================] - 16s 2ms/step - loss: 6.5289\n",
            "Epoch 66/100\n",
            "7892/7892 [==============================] - 17s 2ms/step - loss: 6.5249\n",
            "Epoch 67/100\n",
            "7892/7892 [==============================] - 16s 2ms/step - loss: 6.5192\n",
            "Epoch 68/100\n",
            "7892/7892 [==============================] - 16s 2ms/step - loss: 6.5191\n",
            "Epoch 69/100\n",
            "7892/7892 [==============================] - 16s 2ms/step - loss: 6.5141\n",
            "Epoch 70/100\n",
            "7892/7892 [==============================] - 16s 2ms/step - loss: 6.5163\n",
            "Epoch 71/100\n",
            "7892/7892 [==============================] - 16s 2ms/step - loss: 6.5080\n",
            "Epoch 72/100\n",
            "7892/7892 [==============================] - 16s 2ms/step - loss: 6.5019\n",
            "Epoch 73/100\n",
            "7892/7892 [==============================] - 16s 2ms/step - loss: 6.4988\n",
            "Epoch 74/100\n",
            "7892/7892 [==============================] - 16s 2ms/step - loss: 6.5002\n",
            "Epoch 75/100\n",
            "7892/7892 [==============================] - 16s 2ms/step - loss: 6.4969\n",
            "Epoch 76/100\n",
            "7892/7892 [==============================] - 16s 2ms/step - loss: 6.4915\n",
            "Epoch 77/100\n",
            "7892/7892 [==============================] - 16s 2ms/step - loss: 6.4837\n",
            "Epoch 78/100\n",
            "7892/7892 [==============================] - 16s 2ms/step - loss: 6.4887\n",
            "Epoch 79/100\n",
            "7892/7892 [==============================] - 16s 2ms/step - loss: 6.4791\n",
            "Epoch 80/100\n",
            "7892/7892 [==============================] - 16s 2ms/step - loss: 6.4761\n",
            "Epoch 81/100\n",
            "7892/7892 [==============================] - 16s 2ms/step - loss: 6.4737\n",
            "Epoch 82/100\n",
            "7892/7892 [==============================] - 16s 2ms/step - loss: 6.4749\n",
            "Epoch 83/100\n",
            "7892/7892 [==============================] - 16s 2ms/step - loss: 6.4655\n",
            "Epoch 84/100\n",
            "7892/7892 [==============================] - 16s 2ms/step - loss: 6.4653\n",
            "Epoch 85/100\n",
            "7892/7892 [==============================] - 16s 2ms/step - loss: 6.4573\n",
            "Epoch 86/100\n",
            "7892/7892 [==============================] - 16s 2ms/step - loss: 6.4611\n",
            "Epoch 87/100\n",
            "7892/7892 [==============================] - 16s 2ms/step - loss: 6.4547\n",
            "Epoch 88/100\n",
            "7892/7892 [==============================] - 17s 2ms/step - loss: 6.4538\n",
            "Epoch 89/100\n",
            "7892/7892 [==============================] - 16s 2ms/step - loss: 6.4576\n",
            "Epoch 90/100\n",
            "7892/7892 [==============================] - 16s 2ms/step - loss: 6.4470\n",
            "Epoch 91/100\n",
            "7892/7892 [==============================] - 16s 2ms/step - loss: 6.4514\n",
            "Epoch 92/100\n",
            "7892/7892 [==============================] - 16s 2ms/step - loss: 6.4483\n",
            "Epoch 93/100\n",
            "7892/7892 [==============================] - 16s 2ms/step - loss: 6.4414\n",
            "Epoch 94/100\n",
            "7892/7892 [==============================] - 16s 2ms/step - loss: 6.4375\n",
            "Epoch 95/100\n",
            "7892/7892 [==============================] - 16s 2ms/step - loss: 6.4375\n",
            "Epoch 96/100\n",
            "7892/7892 [==============================] - 16s 2ms/step - loss: 6.4361\n",
            "Epoch 97/100\n",
            "7892/7892 [==============================] - 16s 2ms/step - loss: 6.4305\n",
            "Epoch 98/100\n",
            "7892/7892 [==============================] - 16s 2ms/step - loss: 6.4322\n",
            "Epoch 99/100\n",
            "7892/7892 [==============================] - 16s 2ms/step - loss: 6.4225\n",
            "Epoch 100/100\n",
            "7892/7892 [==============================] - 16s 2ms/step - loss: 6.4201\n"
          ]
        }
      ],
      "source": [
        "history = train(env, pi, net, loss_fn, opt)"
      ]
    },
    {
      "cell_type": "code",
      "execution_count": 117,
      "metadata": {
        "colab": {
          "base_uri": "https://localhost:8080/",
          "height": 564
        },
        "id": "vGSByiAqVAD-",
        "outputId": "6c51d840-fba4-4566-d3b5-ac14ee6fe6cb"
      },
      "outputs": [
        {
          "data": {
            "image/png": "[encoded data removed]",
            "text/plain": [
              "<Figure size 800x600 with 1 Axes>"
            ]
          },
          "metadata": {},
          "output_type": "display_data"
        }
      ],
      "source": [
        "plt.figure(figsize=(8, 6))\n",
        "plt.plot(history.history['loss'], label='Loss')\n",
        "plt.title('Training Loss Over Time')\n",
        "plt.xlabel('Epoch')\n",
        "plt.ylabel('Loss')\n",
        "plt.legend()\n",
        "plt.show()"
      ]
    },
    {
      "cell_type": "code",
      "execution_count": 118,
      "metadata": {
        "id": "S4BxTY3xa3Ui"
      },
      "outputs": [],
      "source": [
        "def play(env, pi):\n",
        "    actions = []\n",
        "    s = env.reset()\n",
        "    while True:\n",
        "        _, a = pi(s)\n",
        "        actions.append(a)\n",
        "        s2, _, done, _ = env.step(a)\n",
        "        if done:\n",
        "            print(f\"actions: {actions}\")\n",
        "            env.render()\n",
        "            break\n",
        "        s = s2"
      ]
    },
    {
      "cell_type": "code",
      "execution_count": 119,
      "metadata": {
        "id": "3uSrsn36bV74"
      },
      "outputs": [],
      "source": [
        "net.save_weights(\"../best_model.h5\")"
      ]
    },
    {
      "cell_type": "code",
      "execution_count": 123,
      "metadata": {
        "colab": {
          "base_uri": "https://localhost:8080/"
        },
        "id": "T2HW9-Eya5G_",
        "outputId": "9ee2fa88-8a37-4ba2-89f9-5a30bd0c59a2"
      },
      "outputs": [
        {
          "name": "stdout",
          "output_type": "stream",
          "text": [
            "actions: [68, 19, 31, 5, 38, 30, 11, 32, 0, 4, 22, 29, 64, 61, 74, 57, 65, 44, 49, 71, 56, 47]\n",
            "  X.X  \n",
            "  .X.  \n",
            "..X.X.X\n",
            "...X...\n",
            "..X.X..\n",
            "  ...  \n",
            "  .X.  \n",
            "\n"
          ]
        }
      ],
      "source": [
        "play(env, pi)"
      ]
    },
    {
      "cell_type": "code",
      "execution_count": null,
      "metadata": {
        "id": "Aw7arQFYeAHM"
      },
      "outputs": [],
      "source": []
    }
  ],
  "metadata": {
    "colab": {
      "provenance": []
    },
    "kernelspec": {
      "display_name": "Python 3",
      "name": "python3"
    },
    "language_info": {
      "name": "python"
    }
  },
  "nbformat": 4,
  "nbformat_minor": 0
}
